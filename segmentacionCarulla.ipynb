{
 "cells": [
  {
   "cell_type": "code",
   "execution_count": 24,
   "metadata": {},
   "outputs": [],
   "source": [
    "import pandas as pd\n",
    "import numpy as np\n",
    "import matplotlib.pyplot as plt\n",
    "from sklearn.cluster import KMeans\n",
    "from sklearn.model_selection import train_test_split\n",
    "from sklearn.ensemble import RandomForestRegressor\n",
    "from sklearn.metrics import mean_squared_error, r2_score\n",
    "from sklearn.preprocessing import LabelEncoder\n",
    "from datetime import datetime"
   ]
  },
  {
   "cell_type": "code",
   "execution_count": 25,
   "metadata": {},
   "outputs": [
    {
     "data": {
      "text/html": [
       "<div>\n",
       "<style scoped>\n",
       "    .dataframe tbody tr th:only-of-type {\n",
       "        vertical-align: middle;\n",
       "    }\n",
       "\n",
       "    .dataframe tbody tr th {\n",
       "        vertical-align: top;\n",
       "    }\n",
       "\n",
       "    .dataframe thead th {\n",
       "        text-align: right;\n",
       "    }\n",
       "</style>\n",
       "<table border=\"1\" class=\"dataframe\">\n",
       "  <thead>\n",
       "    <tr style=\"text-align: right;\">\n",
       "      <th></th>\n",
       "      <th>FechaTransaccion</th>\n",
       "      <th>IdTransaccion</th>\n",
       "      <th>IdCliente</th>\n",
       "      <th>CdCadena</th>\n",
       "      <th>IdCiudad</th>\n",
       "      <th>SUM_of_VlrVentasConImpuestos</th>\n",
       "    </tr>\n",
       "  </thead>\n",
       "  <tbody>\n",
       "    <tr>\n",
       "      <th>0</th>\n",
       "      <td>25MAR2021</td>\n",
       "      <td>4851730852</td>\n",
       "      <td>5104794.0</td>\n",
       "      <td>C</td>\n",
       "      <td>11001</td>\n",
       "      <td>5.3061</td>\n",
       "    </tr>\n",
       "    <tr>\n",
       "      <th>1</th>\n",
       "      <td>02APR2021</td>\n",
       "      <td>4857458053</td>\n",
       "      <td>5434724.0</td>\n",
       "      <td>C</td>\n",
       "      <td>11001</td>\n",
       "      <td>4.5000</td>\n",
       "    </tr>\n",
       "    <tr>\n",
       "      <th>2</th>\n",
       "      <td>19FEB2021</td>\n",
       "      <td>4828227464</td>\n",
       "      <td>1844294.0</td>\n",
       "      <td>C</td>\n",
       "      <td>11001</td>\n",
       "      <td>8.8889</td>\n",
       "    </tr>\n",
       "    <tr>\n",
       "      <th>3</th>\n",
       "      <td>19MAR2021</td>\n",
       "      <td>4848040431</td>\n",
       "      <td>29966990.0</td>\n",
       "      <td>C</td>\n",
       "      <td>47001</td>\n",
       "      <td>68.2250</td>\n",
       "    </tr>\n",
       "    <tr>\n",
       "      <th>4</th>\n",
       "      <td>16APR2021</td>\n",
       "      <td>4865257354</td>\n",
       "      <td>9500366.0</td>\n",
       "      <td>C</td>\n",
       "      <td>11001</td>\n",
       "      <td>198.1602</td>\n",
       "    </tr>\n",
       "  </tbody>\n",
       "</table>\n",
       "</div>"
      ],
      "text/plain": [
       "  FechaTransaccion  IdTransaccion   IdCliente CdCadena  IdCiudad  \\\n",
       "0        25MAR2021     4851730852   5104794.0        C     11001   \n",
       "1        02APR2021     4857458053   5434724.0        C     11001   \n",
       "2        19FEB2021     4828227464   1844294.0        C     11001   \n",
       "3        19MAR2021     4848040431  29966990.0        C     47001   \n",
       "4        16APR2021     4865257354   9500366.0        C     11001   \n",
       "\n",
       "   SUM_of_VlrVentasConImpuestos  \n",
       "0                        5.3061  \n",
       "1                        4.5000  \n",
       "2                        8.8889  \n",
       "3                       68.2250  \n",
       "4                      198.1602  "
      ]
     },
     "execution_count": 25,
     "metadata": {},
     "output_type": "execute_result"
    }
   ],
   "source": [
    "df = pd.read_csv('archivo_unificado.csv')\n",
    "df.head()"
   ]
  },
  {
   "cell_type": "code",
   "execution_count": 26,
   "metadata": {},
   "outputs": [
    {
     "data": {
      "text/html": [
       "<div>\n",
       "<style scoped>\n",
       "    .dataframe tbody tr th:only-of-type {\n",
       "        vertical-align: middle;\n",
       "    }\n",
       "\n",
       "    .dataframe tbody tr th {\n",
       "        vertical-align: top;\n",
       "    }\n",
       "\n",
       "    .dataframe thead th {\n",
       "        text-align: right;\n",
       "    }\n",
       "</style>\n",
       "<table border=\"1\" class=\"dataframe\">\n",
       "  <thead>\n",
       "    <tr style=\"text-align: right;\">\n",
       "      <th></th>\n",
       "      <th>IdTransaccion</th>\n",
       "      <th>IdCliente</th>\n",
       "      <th>IdCiudad</th>\n",
       "      <th>SUM_of_VlrVentasConImpuestos</th>\n",
       "    </tr>\n",
       "  </thead>\n",
       "  <tbody>\n",
       "    <tr>\n",
       "      <th>count</th>\n",
       "      <td>6.987576e+07</td>\n",
       "      <td>6.987576e+07</td>\n",
       "      <td>6.987576e+07</td>\n",
       "      <td>6.987576e+07</td>\n",
       "    </tr>\n",
       "    <tr>\n",
       "      <th>mean</th>\n",
       "      <td>5.180701e+09</td>\n",
       "      <td>2.691689e+07</td>\n",
       "      <td>1.562939e+04</td>\n",
       "      <td>3.700558e+01</td>\n",
       "    </tr>\n",
       "    <tr>\n",
       "      <th>std</th>\n",
       "      <td>2.257328e+08</td>\n",
       "      <td>4.326381e+07</td>\n",
       "      <td>1.660928e+04</td>\n",
       "      <td>8.735992e+01</td>\n",
       "    </tr>\n",
       "    <tr>\n",
       "      <th>min</th>\n",
       "      <td>4.800820e+09</td>\n",
       "      <td>1.400000e+01</td>\n",
       "      <td>5.001000e+03</td>\n",
       "      <td>1.000000e-04</td>\n",
       "    </tr>\n",
       "    <tr>\n",
       "      <th>25%</th>\n",
       "      <td>4.981618e+09</td>\n",
       "      <td>3.619066e+06</td>\n",
       "      <td>1.100100e+04</td>\n",
       "      <td>5.476100e+00</td>\n",
       "    </tr>\n",
       "    <tr>\n",
       "      <th>50%</th>\n",
       "      <td>5.173503e+09</td>\n",
       "      <td>7.221785e+06</td>\n",
       "      <td>1.100100e+04</td>\n",
       "      <td>1.455550e+01</td>\n",
       "    </tr>\n",
       "    <tr>\n",
       "      <th>75%</th>\n",
       "      <td>5.378833e+09</td>\n",
       "      <td>2.709722e+07</td>\n",
       "      <td>1.100100e+04</td>\n",
       "      <td>3.776890e+01</td>\n",
       "    </tr>\n",
       "    <tr>\n",
       "      <th>max</th>\n",
       "      <td>5.576283e+09</td>\n",
       "      <td>1.523072e+08</td>\n",
       "      <td>7.689200e+04</td>\n",
       "      <td>3.561842e+04</td>\n",
       "    </tr>\n",
       "  </tbody>\n",
       "</table>\n",
       "</div>"
      ],
      "text/plain": [
       "       IdTransaccion     IdCliente      IdCiudad  SUM_of_VlrVentasConImpuestos\n",
       "count   6.987576e+07  6.987576e+07  6.987576e+07                  6.987576e+07\n",
       "mean    5.180701e+09  2.691689e+07  1.562939e+04                  3.700558e+01\n",
       "std     2.257328e+08  4.326381e+07  1.660928e+04                  8.735992e+01\n",
       "min     4.800820e+09  1.400000e+01  5.001000e+03                  1.000000e-04\n",
       "25%     4.981618e+09  3.619066e+06  1.100100e+04                  5.476100e+00\n",
       "50%     5.173503e+09  7.221785e+06  1.100100e+04                  1.455550e+01\n",
       "75%     5.378833e+09  2.709722e+07  1.100100e+04                  3.776890e+01\n",
       "max     5.576283e+09  1.523072e+08  7.689200e+04                  3.561842e+04"
      ]
     },
     "execution_count": 26,
     "metadata": {},
     "output_type": "execute_result"
    }
   ],
   "source": [
    "df.describe()"
   ]
  },
  {
   "cell_type": "code",
   "execution_count": 27,
   "metadata": {},
   "outputs": [
    {
     "name": "stdout",
     "output_type": "stream",
     "text": [
      "<class 'pandas.core.frame.DataFrame'>\n",
      "RangeIndex: 69875755 entries, 0 to 69875754\n",
      "Data columns (total 6 columns):\n",
      " #   Column                        Dtype  \n",
      "---  ------                        -----  \n",
      " 0   FechaTransaccion              object \n",
      " 1   IdTransaccion                 int64  \n",
      " 2   IdCliente                     float64\n",
      " 3   CdCadena                      object \n",
      " 4   IdCiudad                      int64  \n",
      " 5   SUM_of_VlrVentasConImpuestos  float64\n",
      "dtypes: float64(2), int64(2), object(2)\n",
      "memory usage: 3.1+ GB\n"
     ]
    }
   ],
   "source": [
    "df.info()"
   ]
  },
  {
   "cell_type": "code",
   "execution_count": 28,
   "metadata": {},
   "outputs": [
    {
     "name": "stdout",
     "output_type": "stream",
     "text": [
      "El número de valores nulos en la columna 'IdCliente' es: 0\n",
      "El número de valores nulos en la columna 'FechaTransaccion' es: 0\n",
      "El número de valores nulos en la columna 'ValorTransaccion' es: 0\n",
      "El número de valores nulos en la columna 'IdCiudad' es: 0\n",
      "El número de valores nulos en la columna 'SUM_of_VlrVentasConImpuestos' es: 0\n"
     ]
    }
   ],
   "source": [
    "nulos_id_cliente = df['IdCliente'].isnull().sum()\n",
    "print(f\"El número de valores nulos en la columna 'IdCliente' es: {nulos_id_cliente}\")\n",
    "nulos_fecha = df['FechaTransaccion'].isnull().sum()\n",
    "print(f\"El número de valores nulos en la columna 'FechaTransaccion' es: {nulos_fecha}\")\n",
    "transaccion = df['IdTransaccion'].isnull().sum()\n",
    "print(f\"El número de valores nulos en la columna 'ValorTransaccion' es: {transaccion}\")\n",
    "ciudad = df['IdCiudad'].isnull().sum()\n",
    "print(f\"El número de valores nulos en la columna 'IdCiudad' es: {ciudad}\")\n",
    "valor = df['SUM_of_VlrVentasConImpuestos'].isnull().sum()\n",
    "print(f\"El número de valores nulos en la columna 'SUM_of_VlrVentasConImpuestos' es: {valor}\")"
   ]
  },
  {
   "cell_type": "code",
   "execution_count": 29,
   "metadata": {},
   "outputs": [],
   "source": [
    "df['FechaTransaccion'] = pd.to_datetime(\n",
    "    df['FechaTransaccion'], format='%d%b%Y')"
   ]
  },
  {
   "cell_type": "code",
   "execution_count": 30,
   "metadata": {},
   "outputs": [],
   "source": [
    "# Calcular los ingresos por transacción\n",
    "df['IngresosPorTransaccion'] = df['SUM_of_VlrVentasConImpuestos']"
   ]
  },
  {
   "cell_type": "code",
   "execution_count": 31,
   "metadata": {},
   "outputs": [],
   "source": [
    "# Calcular los ingresos por cliente\n",
    "df['IngresosPorCliente'] = df.groupby(\n",
    "    'IdCliente')['IngresosPorTransaccion'].transform('sum')"
   ]
  },
  {
   "cell_type": "code",
   "execution_count": 32,
   "metadata": {},
   "outputs": [],
   "source": [
    "# Calcular el beneficio por cliente (en este caso, es igual a los ingresos por cliente)\n",
    "df['BeneficioPorCliente'] = df['IngresosPorCliente']"
   ]
  },
  {
   "cell_type": "code",
   "execution_count": 33,
   "metadata": {},
   "outputs": [
    {
     "name": "stdout",
     "output_type": "stream",
     "text": [
      "El Customer Lifetime Value (CLV) es: 928172356973.886\n"
     ]
    }
   ],
   "source": [
    "\n",
    "# Calcular el CLV\n",
    "tasa_descuento = 0.1  # Ajusta la tasa de descuento según tus necesidades\n",
    "clv = df['BeneficioPorCliente'].sum() / (1 + tasa_descuento)\n",
    "print(f\"El Customer Lifetime Value (CLV) es: {clv}\")"
   ]
  },
  {
   "cell_type": "code",
   "execution_count": 34,
   "metadata": {},
   "outputs": [
    {
     "name": "stdout",
     "output_type": "stream",
     "text": [
      "El Customer Lifetime Value (CLV) es: 928172356973.886\n"
     ]
    }
   ],
   "source": [
    "print(f\"El Customer Lifetime Value (CLV) es: {clv}\")"
   ]
  },
  {
   "cell_type": "markdown",
   "metadata": {},
   "source": [
    "\n",
    "El valor que has obtenido para el Customer Lifetime Value (CLV) es de \n",
    "928,172,356,973.886\n",
    "928,172,356,973.886. Este valor representa la estimación del valor total que se espera obtener de todos los clientes a lo largo de su relación con la empresa, teniendo en cuenta los ingresos generados por las transacciones.\n",
    "\n",
    "Recuerda que el CLV es una métrica importante, pero su interpretación puede variar según el contexto y la industria. Además, es fundamental considerar otros factores y métricas para obtener una visión más completa de la salud financiera y la eficacia de las estrategias de retención de clientes.\n",
    "\n",
    "\n",
    "\n",
    "\n",
    "\n"
   ]
  },
  {
   "cell_type": "markdown",
   "metadata": {},
   "source": []
  },
  {
   "cell_type": "code",
   "execution_count": 38,
   "metadata": {},
   "outputs": [],
   "source": [
    "# Calcular Recency\n",
    "today = datetime.today()\n",
    "df['Recency'] = (today - df.groupby('IdCliente')\n",
    "                 ['FechaTransaccion'].transform('max')).dt.days\n",
    "\n",
    "# Características para el modelo\n",
    "# Ajusta según tus columnas disponibles\n",
    "features = ['Recency', 'SUM_of_VlrVentasConImpuestos']\n",
    "\n",
    "# Variable objetivo (BeneficioPorCliente en este caso)\n",
    "# Asumiendo que ya tienes el BeneficioPorCliente calculado\n",
    "target = 'BeneficioPorCliente'\n",
    "\n",
    "# Dividir los datos en conjuntos de entrenamiento y prueba\n",
    "X_train, X_test, y_train, y_test = train_test_split(\n",
    "    df[features], df[target], test_size=0.2, random_state=42)\n",
    "\n",
    "# Inicializar el modelo de Random Forest Regressor\n",
    "rf_model = RandomForestRegressor(n_estimators=100, random_state=42)\n",
    "\n",
    "# Entrenar el modelo\n",
    "rf_model.fit(X_train, y_train)\n",
    "\n",
    "# Realizar predicciones en el conjunto de prueba\n",
    "y_pred = rf_model.predict(X_test)\n",
    "\n",
    "# Evaluar el rendimiento del modelo\n",
    "mse = mean_squared_error(y_test, y_pred)\n",
    "r2 = r2_score(y_test, y_pred)\n",
    "\n",
    "print(f'Mean Squared Error: {mse}')\n",
    "print(f'R2 Score: {r2}')"
   ]
  }
 ],
 "metadata": {
  "kernelspec": {
   "display_name": "Python 3",
   "language": "python",
   "name": "python3"
  },
  "language_info": {
   "codemirror_mode": {
    "name": "ipython",
    "version": 3
   },
   "file_extension": ".py",
   "mimetype": "text/x-python",
   "name": "python",
   "nbconvert_exporter": "python",
   "pygments_lexer": "ipython3",
   "version": "3.11.0"
  }
 },
 "nbformat": 4,
 "nbformat_minor": 2
}
